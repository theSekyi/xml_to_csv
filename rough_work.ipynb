{
 "cells": [
  {
   "cell_type": "code",
   "execution_count": 2,
   "metadata": {},
   "outputs": [],
   "source": [
    "from xml.etree import ElementTree"
   ]
  },
  {
   "cell_type": "code",
   "execution_count": 3,
   "metadata": {},
   "outputs": [],
   "source": [
    "import glob"
   ]
  },
  {
   "cell_type": "code",
   "execution_count": 4,
   "metadata": {},
   "outputs": [],
   "source": [
    "import pathlib\n",
    "\n",
    "root_path = pathlib.Path().absolute()/'xml_files'"
   ]
  },
  {
   "cell_type": "code",
   "execution_count": 5,
   "metadata": {},
   "outputs": [],
   "source": [
    "xml_files = glob.glob(str(root_path)+\"/*.xml\")"
   ]
  },
  {
   "cell_type": "code",
   "execution_count": 6,
   "metadata": {},
   "outputs": [
    {
     "data": {
      "text/plain": [
       "['/home/socs/projects/xml/xml_files/2000005.xml',\n",
       " '/home/socs/projects/xml/xml_files/2000009.xml']"
      ]
     },
     "execution_count": 6,
     "metadata": {},
     "output_type": "execute_result"
    }
   ],
   "source": [
    "xml_files"
   ]
  },
  {
   "cell_type": "code",
   "execution_count": 7,
   "metadata": {},
   "outputs": [],
   "source": [
    "for xmlfile in xml_files:\n",
    "    tree = ElementTree.parse(xmlfile)"
   ]
  },
  {
   "cell_type": "code",
   "execution_count": 8,
   "metadata": {},
   "outputs": [],
   "source": [
    "tree = ElementTree.parse('/home/socs/projects/xml/xml_files/2000005.xml')"
   ]
  },
  {
   "cell_type": "code",
   "execution_count": 9,
   "metadata": {},
   "outputs": [
    {
     "name": "stdout",
     "output_type": "stream",
     "text": [
      "<xml.etree.ElementTree.ElementTree object at 0x7f3fe46ac3a0>\n"
     ]
    }
   ],
   "source": [
    "print(tree)"
   ]
  },
  {
   "cell_type": "code",
   "execution_count": 10,
   "metadata": {},
   "outputs": [],
   "source": [
    "root = tree.getroot()"
   ]
  },
  {
   "cell_type": "code",
   "execution_count": 19,
   "metadata": {},
   "outputs": [
    {
     "name": "stdout",
     "output_type": "stream",
     "text": [
      "<Element 'Award' at 0x7f38c9b6cb30>\n"
     ]
    }
   ],
   "source": [
    "for ch in root:\n",
    "    print(ch)"
   ]
  },
  {
   "cell_type": "code",
   "execution_count": 11,
   "metadata": {},
   "outputs": [],
   "source": [
    "elements = root.find(\"./Award\")"
   ]
  },
  {
   "cell_type": "code",
   "execution_count": 12,
   "metadata": {},
   "outputs": [
    {
     "data": {
      "text/plain": [
       "<Element 'Award' at 0x7f3fe462fd10>"
      ]
     },
     "execution_count": 12,
     "metadata": {},
     "output_type": "execute_result"
    }
   ],
   "source": [
    "elements"
   ]
  },
  {
   "cell_type": "code",
   "execution_count": 22,
   "metadata": {},
   "outputs": [],
   "source": [
    "node = None"
   ]
  },
  {
   "cell_type": "code",
   "execution_count": 1,
   "metadata": {},
   "outputs": [],
   "source": [
    "#dir(element)"
   ]
  },
  {
   "cell_type": "code",
   "execution_count": 21,
   "metadata": {},
   "outputs": [
    {
     "name": "stdout",
     "output_type": "stream",
     "text": [
      "<Element 'AwardTitle' at 0x7f3fe462fc70>\n",
      "<Element 'AwardEffectiveDate' at 0x7f3fe462fb80>\n",
      "<Element 'AwardExpirationDate' at 0x7f3fe462fb30>\n",
      "<Element 'AwardTotalIntnAmount' at 0x7f3fe462fa40>\n",
      "<Element 'AwardAmount' at 0x7f3fe462fa90>\n",
      "<Element 'AwardInstrument' at 0x7f3fe462f9f0>\n",
      "<Element 'Organization' at 0x7f3fe462f8b0>\n",
      "<Element 'ProgramOfficer' at 0x7f3fe462f680>\n",
      "<Element 'AbstractNarration' at 0x7f3fe462f540>\n",
      "<Element 'MinAmdLetterDate' at 0x7f3fe462f180>\n",
      "<Element 'MaxAmdLetterDate' at 0x7f3fe462f400>\n",
      "<Element 'ARRAAmount' at 0x7f3fe462f360>\n",
      "<Element 'AwardID' at 0x7f3fe462f310>\n",
      "<Element 'Investigator' at 0x7f3fe462f270>\n",
      "<Element 'Institution' at 0x7f3fe4649e00>\n",
      "<Element 'ProgramElement' at 0x7f3fe45fef90>\n",
      "<Element 'ProgramReference' at 0x7f3fe4603c70>\n",
      "<Element 'ProgramReference' at 0x7f3fe46030e0>\n",
      "<Element 'ProgramReference' at 0x7f3fe4603310>\n",
      "<Element 'ProgramReference' at 0x7f3fe46039a0>\n"
     ]
    }
   ],
   "source": [
    "for element in list(elements):\n",
    "    print(element)"
   ]
  },
  {
   "cell_type": "code",
   "execution_count": 17,
   "metadata": {},
   "outputs": [],
   "source": [
    "from bs4 import BeautifulSoup"
   ]
  },
  {
   "cell_type": "code",
   "execution_count": 30,
   "metadata": {},
   "outputs": [],
   "source": [
    "source_xml = \"/home/socs/projects/xml/xml_files/2000005.xml\""
   ]
  },
  {
   "cell_type": "code",
   "execution_count": 31,
   "metadata": {},
   "outputs": [],
   "source": [
    "source = open(source_xml,\"r\").read()"
   ]
  },
  {
   "cell_type": "code",
   "execution_count": 38,
   "metadata": {},
   "outputs": [],
   "source": [
    "elements = BeautifulSoup(source, features=\"xml\")"
   ]
  },
  {
   "cell_type": "code",
   "execution_count": 43,
   "metadata": {},
   "outputs": [
    {
     "name": "stdout",
     "output_type": "stream",
     "text": [
      "<rootTag>\n",
      "<Award>\n",
      "<AwardTitle>Collaborative Research: Excellence in Research: Impact of Gbx2 on neural crest cells during neuronal, craniofacial and cardiovascular development</AwardTitle>\n",
      "<AwardEffectiveDate>07/01/2020</AwardEffectiveDate>\n",
      "<AwardExpirationDate>06/30/2023</AwardExpirationDate>\n",
      "<AwardTotalIntnAmount>229338.00</AwardTotalIntnAmount>\n",
      "<AwardAmount>229338</AwardAmount>\n",
      "<AwardInstrument>\n",
      "<Value>Standard Grant</Value>\n",
      "</AwardInstrument>\n",
      "<Organization>\n",
      "<Code>08090100</Code>\n",
      "<Directorate>\n",
      "<Abbreviation>BIO</Abbreviation>\n",
      "<LongName>Direct For Biological Sciences</LongName>\n",
      "</Directorate>\n",
      "<Division>\n",
      "<Abbreviation>IOS</Abbreviation>\n",
      "<LongName>Division Of Integrative Organismal Systems</LongName>\n",
      "</Division>\n",
      "</Organization>\n",
      "<ProgramOfficer>\n",
      "<SignBlockName>Steven Klein</SignBlockName>\n",
      "</ProgramOfficer>\n",
      "<AbstractNarration>Head and heart development are closely intertwined during embryonic development in vertebrates. They share molecular regulatory mechanism as well as some progenitor cell populations. Both head and heart, are made from a multitude of cells, which include mesodermal cells that form musculature and neural crest cells which form connective tissue. Mesodermal and neural crest cells are also important for the development of cartilages and bones in head and neck and for proper septation of the heart. The identity of cells that constitute these tissues is specified very early during embryogenesis via a specific set of genes (specifiers), then follow their trajectory to become muscle, connective tissue, etc.&lt;br/&gt;One early specifier, gastrulation-brain-homeobox 2 (Gbx2), is essential for the migration (movement) and survival of neural crest cells. Neural crest cells and mesodermal cells interact during their migration to form head and heart structures. While mesodermal cells are not directly effected by change in Gbx2 expression, neural crest cells are effected and will alter the communication with mesodermal cells, leading to changes in mesoderm derived structures (e.g., muscles). This project aims to understand how Gbx2 guides neural crest development, and how changes in Gbx2 expression influences head (muscle, cartilage, bone, cranial nerve) and heart development. &lt;br/&gt;Traditionally the fields of comparative, developmental and evolutionary biology have been unsuccessful in recruiting students and scientists of diverse backrounds. This project will promote collaborations between researchers from non-traditional backgrounds in these areas of biology and historically black universities, Howard University and University of the District of Columbia.  This award is funded by the NSF Excellence in Research Program.&lt;br/&gt;&lt;br/&gt;&lt;br/&gt;Technical paragraph&lt;br/&gt;Cranial neural crest cells (CNCCs) are involved in the development of cranial ganglia, cranial nerves, cranium, connective tissue of head muscles, heart septation, pharyngeal arch artery development, etc. The gastrulation-brain-homeobox (Gbx) transcription factor family member, Gbx2, regulates diverse developmental processes, including anteroposterior patterning within the anterior hindbrain and migration and survival of CNCCs. Since CNCCs are involved in many different developmental processes during head and heart development, this project aims to analyze target genes under direct control of Gbx2, that regulate migration and survival of CNCCs in homozygous Gbx2neo embryos. Furthermore, this project will include analyses of the impact of changes of Gbx2 expression on the morphogenesis of the neural system, and craniofacial and cardiovascular structures. The latter part is of significance as neural crest cells influence the development and differentiation of surrounding tissues and vice versa. During head and haert development the interaction of CNCCs and mesoderm is of particular interest for this project because the mesodermal progenitor cells for most of the head and heart musculature derives from a common progenitor field, called the cardiopharyngeal field. In case Gbx2 is somehow involved in the gene regulatory network underlying the differentiation of that mesodermal progenitor field, directly via altering the transcription of genes or indirectly via altering the neural crest - mesodermal interaction during development, this project will lead to insights into mechanisms regulating head and heart development as well as cranial ganglia and nerve development.&lt;br/&gt;&lt;br/&gt;This award reflects NSF's statutory mission and has been deemed worthy of support through evaluation using the Foundation's intellectual merit and broader impacts review criteria.</AbstractNarration>\n",
      "<MinAmdLetterDate>06/29/2020</MinAmdLetterDate>\n",
      "<MaxAmdLetterDate>06/29/2020</MaxAmdLetterDate>\n",
      "<ARRAAmount/>\n",
      "<AwardID>2000005</AwardID>\n",
      "<Investigator>\n",
      "<FirstName>Janine</FirstName>\n",
      "<LastName>Ziermann</LastName>\n",
      "<EmailAddress>janine.ziermann@howard.edu</EmailAddress>\n",
      "<StartDate>06/29/2020</StartDate>\n",
      "<EndDate/>\n",
      "<RoleCode>Principal Investigator</RoleCode>\n",
      "</Investigator>\n",
      "<Institution>\n",
      "<Name>Howard University</Name>\n",
      "<CityName>Washington</CityName>\n",
      "<ZipCode>200599000</ZipCode>\n",
      "<PhoneNumber>2028064759</PhoneNumber>\n",
      "<StreetAddress>2400 Sixth Street N W</StreetAddress>\n",
      "<CountryName>United States</CountryName>\n",
      "<StateName>District of Columbia</StateName>\n",
      "<StateCode>DC</StateCode>\n",
      "</Institution>\n",
      "<ProgramElement>\n",
      "<Code>070Y</Code>\n",
      "<Text>HBCU-EiR - HBCU-Excellence in</Text>\n",
      "</ProgramElement>\n",
      "<ProgramReference>\n",
      "<Code>1119</Code>\n",
      "<Text>ANIMAL DEVELOPMENTAL MECHANSMS</Text>\n",
      "</ProgramReference>\n",
      "<ProgramReference>\n",
      "<Code>1228</Code>\n",
      "<Text>MINORITY INVOLVEMENT -- BIO</Text>\n",
      "</ProgramReference>\n",
      "<ProgramReference>\n",
      "<Code>2886</Code>\n",
      "<Text>MINORITY INSTITUTIONS PROGRAM</Text>\n",
      "</ProgramReference>\n",
      "<ProgramReference>\n",
      "<Code>9178</Code>\n",
      "<Text>UNDERGRADUATE EDUCATION</Text>\n",
      "</ProgramReference>\n",
      "</Award>\n",
      "</rootTag>\n"
     ]
    }
   ],
   "source": [
    "for element in elements:\n",
    "    print(element)"
   ]
  },
  {
   "cell_type": "code",
   "execution_count": 47,
   "metadata": {},
   "outputs": [
    {
     "name": "stdout",
     "output_type": "stream",
     "text": [
      "2000005\n"
     ]
    }
   ],
   "source": [
    "for element in elements.find_all('Award'):\n",
    "    award_title = element.find('AwardTitle').text\n",
    "    effective_date = element.find('AwardEffectiveDate').text\n",
    "    expiry_date = element.find('AwardExpirationDate').text\n",
    "    total_amount = element.find('AwardTotalIntnAmount').text\n",
    "    award_instrument = element.find('AwardInstrument').find('Value').text\n",
    "    program_officer = element.find('SignBlockName').text\n",
    "    abstract = element.find('AbstractNarration').text\n",
    "    award_id = elements.find('AwardID').text\n",
    "    investigator_firstname = elements.find('FirstName').text\n",
    "    investigator_lastname = elements.find('LastName').text\n",
    "    investigator_email_address = elements.find('EmailAddress').text\n",
    "    investigator_startdate = elements.find('StartDate').text\n",
    "    university_name = elements.find('Institution').find('Name').text\n",
    "    university_city = elements.find('Institution').find('CityName').text\n",
    "    university_phonenumber = elements.find('Institution').find('PhoneNumber').text\n",
    "    university_streetaddress = elements.find('Institution').find('StreetAddress').text\n",
    "    university_country = elements.find('Institution').find('CountryName').text\n",
    "    university_statename = elements.find('Institution').find('StateName').text\n",
    "    university_state_Code = elements.find('Institution').find('StateCode').text\n",
    "    dict_data = {'award_title':award_title,\n",
    "                 'effective_date': effective_date,\n",
    "                 'expiry_date': expiry_date,\n",
    "                 'total_amount': total_amount,\n",
    "                 'award_instrument': award_instrument,\n",
    "                 'program_officer': program_officer,\n",
    "                 'abstract': abstract,\n",
    "                 'award_id': award_id,\n",
    "                 'investigator_firstname': investigator_firstname,\n",
    "                 'investigator_lastname': investigator_lastname,\n",
    "                 'investigator_email_address':investigator_email_address,\n",
    "                 'investigator_startdate':investigator_startdate, \n",
    "                 'university_name':university_name,\n",
    "                 'university_city': university_city,\n",
    "                 'university_phonenumber': university_phonenumber,\n",
    "                 'university_streetaddress': university_streetaddress,\n",
    "                 'university_country': university_country,\n",
    "                 'university_statename': university_statename,\n",
    "                 'university_state_Code': university_state_Code\n",
    "                }\n"
   ]
  },
  {
   "cell_type": "code",
   "execution_count": null,
   "metadata": {},
   "outputs": [],
   "source": []
  },
  {
   "cell_type": "code",
   "execution_count": null,
   "metadata": {},
   "outputs": [],
   "source": []
  },
  {
   "cell_type": "code",
   "execution_count": null,
   "metadata": {},
   "outputs": [],
   "source": []
  },
  {
   "cell_type": "code",
   "execution_count": 26,
   "metadata": {},
   "outputs": [
    {
     "data": {
      "text/plain": [
       "['__class__',\n",
       " '__copy__',\n",
       " '__deepcopy__',\n",
       " '__delattr__',\n",
       " '__delitem__',\n",
       " '__dir__',\n",
       " '__doc__',\n",
       " '__eq__',\n",
       " '__format__',\n",
       " '__ge__',\n",
       " '__getattribute__',\n",
       " '__getitem__',\n",
       " '__getstate__',\n",
       " '__gt__',\n",
       " '__hash__',\n",
       " '__init__',\n",
       " '__init_subclass__',\n",
       " '__le__',\n",
       " '__len__',\n",
       " '__lt__',\n",
       " '__ne__',\n",
       " '__new__',\n",
       " '__reduce__',\n",
       " '__reduce_ex__',\n",
       " '__repr__',\n",
       " '__setattr__',\n",
       " '__setitem__',\n",
       " '__setstate__',\n",
       " '__sizeof__',\n",
       " '__str__',\n",
       " '__subclasshook__',\n",
       " 'append',\n",
       " 'attrib',\n",
       " 'clear',\n",
       " 'extend',\n",
       " 'find',\n",
       " 'findall',\n",
       " 'findtext',\n",
       " 'get',\n",
       " 'getchildren',\n",
       " 'getiterator',\n",
       " 'insert',\n",
       " 'items',\n",
       " 'iter',\n",
       " 'iterfind',\n",
       " 'itertext',\n",
       " 'keys',\n",
       " 'makeelement',\n",
       " 'remove',\n",
       " 'set',\n",
       " 'tag',\n",
       " 'tail',\n",
       " 'text']"
      ]
     },
     "execution_count": 26,
     "metadata": {},
     "output_type": "execute_result"
    }
   ],
   "source": [
    "dir(element)"
   ]
  },
  {
   "cell_type": "code",
   "execution_count": null,
   "metadata": {},
   "outputs": [],
   "source": []
  }
 ],
 "metadata": {
  "kernelspec": {
   "display_name": "Python 3",
   "language": "python",
   "name": "python3"
  },
  "language_info": {
   "codemirror_mode": {
    "name": "ipython",
    "version": 3
   },
   "file_extension": ".py",
   "mimetype": "text/x-python",
   "name": "python",
   "nbconvert_exporter": "python",
   "pygments_lexer": "ipython3",
   "version": "3.8.3"
  }
 },
 "nbformat": 4,
 "nbformat_minor": 4
}
